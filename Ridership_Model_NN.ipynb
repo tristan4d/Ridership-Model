{
  "nbformat": 4,
  "nbformat_minor": 0,
  "metadata": {
    "colab": {
      "name": "Ridership Model NN.ipynb",
      "provenance": [],
      "authorship_tag": "ABX9TyM4vyzmn0syp6JF99n6O3DQ"
    },
    "kernelspec": {
      "name": "python3",
      "display_name": "Python 3"
    },
    "language_info": {
      "name": "python"
    }
  },
  "cells": [
    {
      "cell_type": "code",
      "execution_count": null,
      "metadata": {
        "id": "bL2x6nPFjIZ6"
      },
      "outputs": [],
      "source": [
        "import pandas as pd\n",
        "import numpy as np\n",
        "import matplotlib.pyplot as plt\n",
        "import seaborn as sns"
      ]
    },
    {
      "cell_type": "code",
      "source": [
        "ridership_data = pd.read_csv('Ridership Model Data.csv')\n",
        "ridership_data.head()"
      ],
      "metadata": {
        "colab": {
          "base_uri": "https://localhost:8080/",
          "height": 268
        },
        "id": "IhRHvsx_nYmc",
        "outputId": "e643a15f-53fc-418e-f156-316525d93fd5"
      },
      "execution_count": null,
      "outputs": [
        {
          "output_type": "execute_result",
          "data": {
            "text/html": [
              "\n",
              "  <div id=\"df-3f2d4c24-c88d-43b6-908b-d269bfbdaacb\">\n",
              "    <div class=\"colab-df-container\">\n",
              "      <div>\n",
              "<style scoped>\n",
              "    .dataframe tbody tr th:only-of-type {\n",
              "        vertical-align: middle;\n",
              "    }\n",
              "\n",
              "    .dataframe tbody tr th {\n",
              "        vertical-align: top;\n",
              "    }\n",
              "\n",
              "    .dataframe thead th {\n",
              "        text-align: right;\n",
              "    }\n",
              "</style>\n",
              "<table border=\"1\" class=\"dataframe\">\n",
              "  <thead>\n",
              "    <tr style=\"text-align: right;\">\n",
              "      <th></th>\n",
              "      <th>ISOYear</th>\n",
              "      <th>Month</th>\n",
              "      <th>ISOWeek</th>\n",
              "      <th>Total Boardings</th>\n",
              "      <th>Start of Week</th>\n",
              "      <th>Revenue Hours</th>\n",
              "      <th>Restaurant Bookings</th>\n",
              "      <th>Gas Price (C/L)</th>\n",
              "      <th>University School Season</th>\n",
              "      <th>Employment</th>\n",
              "      <th>WFH</th>\n",
              "      <th>Population Growth Rate</th>\n",
              "      <th>BC Vaccination Rate</th>\n",
              "      <th>hospitalizations</th>\n",
              "      <th>critical cases</th>\n",
              "    </tr>\n",
              "  </thead>\n",
              "  <tbody>\n",
              "    <tr>\n",
              "      <th>0</th>\n",
              "      <td>2019</td>\n",
              "      <td>1</td>\n",
              "      <td>1</td>\n",
              "      <td>337533.0</td>\n",
              "      <td>43465.0</td>\n",
              "      <td>12526.5</td>\n",
              "      <td>0.0</td>\n",
              "      <td>135.0</td>\n",
              "      <td>3.0</td>\n",
              "      <td>2651.0</td>\n",
              "      <td>2.1</td>\n",
              "      <td>0.02</td>\n",
              "      <td>1.0</td>\n",
              "      <td>0.0</td>\n",
              "      <td>0.0</td>\n",
              "    </tr>\n",
              "    <tr>\n",
              "      <th>1</th>\n",
              "      <td>2019</td>\n",
              "      <td>1</td>\n",
              "      <td>2</td>\n",
              "      <td>673937.0</td>\n",
              "      <td>43472.0</td>\n",
              "      <td>12526.5</td>\n",
              "      <td>0.0</td>\n",
              "      <td>133.0</td>\n",
              "      <td>1.0</td>\n",
              "      <td>2651.0</td>\n",
              "      <td>2.1</td>\n",
              "      <td>0.02</td>\n",
              "      <td>1.0</td>\n",
              "      <td>0.0</td>\n",
              "      <td>0.0</td>\n",
              "    </tr>\n",
              "    <tr>\n",
              "      <th>2</th>\n",
              "      <td>2019</td>\n",
              "      <td>1</td>\n",
              "      <td>3</td>\n",
              "      <td>676048.0</td>\n",
              "      <td>43479.0</td>\n",
              "      <td>12526.5</td>\n",
              "      <td>0.0</td>\n",
              "      <td>132.0</td>\n",
              "      <td>1.0</td>\n",
              "      <td>2651.0</td>\n",
              "      <td>2.1</td>\n",
              "      <td>0.02</td>\n",
              "      <td>1.0</td>\n",
              "      <td>0.0</td>\n",
              "      <td>0.0</td>\n",
              "    </tr>\n",
              "    <tr>\n",
              "      <th>3</th>\n",
              "      <td>2019</td>\n",
              "      <td>1</td>\n",
              "      <td>4</td>\n",
              "      <td>668159.0</td>\n",
              "      <td>43486.0</td>\n",
              "      <td>12526.5</td>\n",
              "      <td>0.0</td>\n",
              "      <td>130.0</td>\n",
              "      <td>1.0</td>\n",
              "      <td>2651.0</td>\n",
              "      <td>2.1</td>\n",
              "      <td>0.02</td>\n",
              "      <td>1.0</td>\n",
              "      <td>0.0</td>\n",
              "      <td>0.0</td>\n",
              "    </tr>\n",
              "    <tr>\n",
              "      <th>4</th>\n",
              "      <td>2019</td>\n",
              "      <td>1</td>\n",
              "      <td>5</td>\n",
              "      <td>666372.0</td>\n",
              "      <td>43493.0</td>\n",
              "      <td>12526.5</td>\n",
              "      <td>0.0</td>\n",
              "      <td>126.0</td>\n",
              "      <td>1.0</td>\n",
              "      <td>2651.0</td>\n",
              "      <td>2.1</td>\n",
              "      <td>0.02</td>\n",
              "      <td>1.0</td>\n",
              "      <td>0.0</td>\n",
              "      <td>0.0</td>\n",
              "    </tr>\n",
              "  </tbody>\n",
              "</table>\n",
              "</div>\n",
              "      <button class=\"colab-df-convert\" onclick=\"convertToInteractive('df-3f2d4c24-c88d-43b6-908b-d269bfbdaacb')\"\n",
              "              title=\"Convert this dataframe to an interactive table.\"\n",
              "              style=\"display:none;\">\n",
              "        \n",
              "  <svg xmlns=\"http://www.w3.org/2000/svg\" height=\"24px\"viewBox=\"0 0 24 24\"\n",
              "       width=\"24px\">\n",
              "    <path d=\"M0 0h24v24H0V0z\" fill=\"none\"/>\n",
              "    <path d=\"M18.56 5.44l.94 2.06.94-2.06 2.06-.94-2.06-.94-.94-2.06-.94 2.06-2.06.94zm-11 1L8.5 8.5l.94-2.06 2.06-.94-2.06-.94L8.5 2.5l-.94 2.06-2.06.94zm10 10l.94 2.06.94-2.06 2.06-.94-2.06-.94-.94-2.06-.94 2.06-2.06.94z\"/><path d=\"M17.41 7.96l-1.37-1.37c-.4-.4-.92-.59-1.43-.59-.52 0-1.04.2-1.43.59L10.3 9.45l-7.72 7.72c-.78.78-.78 2.05 0 2.83L4 21.41c.39.39.9.59 1.41.59.51 0 1.02-.2 1.41-.59l7.78-7.78 2.81-2.81c.8-.78.8-2.07 0-2.86zM5.41 20L4 18.59l7.72-7.72 1.47 1.35L5.41 20z\"/>\n",
              "  </svg>\n",
              "      </button>\n",
              "      \n",
              "  <style>\n",
              "    .colab-df-container {\n",
              "      display:flex;\n",
              "      flex-wrap:wrap;\n",
              "      gap: 12px;\n",
              "    }\n",
              "\n",
              "    .colab-df-convert {\n",
              "      background-color: #E8F0FE;\n",
              "      border: none;\n",
              "      border-radius: 50%;\n",
              "      cursor: pointer;\n",
              "      display: none;\n",
              "      fill: #1967D2;\n",
              "      height: 32px;\n",
              "      padding: 0 0 0 0;\n",
              "      width: 32px;\n",
              "    }\n",
              "\n",
              "    .colab-df-convert:hover {\n",
              "      background-color: #E2EBFA;\n",
              "      box-shadow: 0px 1px 2px rgba(60, 64, 67, 0.3), 0px 1px 3px 1px rgba(60, 64, 67, 0.15);\n",
              "      fill: #174EA6;\n",
              "    }\n",
              "\n",
              "    [theme=dark] .colab-df-convert {\n",
              "      background-color: #3B4455;\n",
              "      fill: #D2E3FC;\n",
              "    }\n",
              "\n",
              "    [theme=dark] .colab-df-convert:hover {\n",
              "      background-color: #434B5C;\n",
              "      box-shadow: 0px 1px 3px 1px rgba(0, 0, 0, 0.15);\n",
              "      filter: drop-shadow(0px 1px 2px rgba(0, 0, 0, 0.3));\n",
              "      fill: #FFFFFF;\n",
              "    }\n",
              "  </style>\n",
              "\n",
              "      <script>\n",
              "        const buttonEl =\n",
              "          document.querySelector('#df-3f2d4c24-c88d-43b6-908b-d269bfbdaacb button.colab-df-convert');\n",
              "        buttonEl.style.display =\n",
              "          google.colab.kernel.accessAllowed ? 'block' : 'none';\n",
              "\n",
              "        async function convertToInteractive(key) {\n",
              "          const element = document.querySelector('#df-3f2d4c24-c88d-43b6-908b-d269bfbdaacb');\n",
              "          const dataTable =\n",
              "            await google.colab.kernel.invokeFunction('convertToInteractive',\n",
              "                                                     [key], {});\n",
              "          if (!dataTable) return;\n",
              "\n",
              "          const docLinkHtml = 'Like what you see? Visit the ' +\n",
              "            '<a target=\"_blank\" href=https://colab.research.google.com/notebooks/data_table.ipynb>data table notebook</a>'\n",
              "            + ' to learn more about interactive tables.';\n",
              "          element.innerHTML = '';\n",
              "          dataTable['output_type'] = 'display_data';\n",
              "          await google.colab.output.renderOutput(dataTable, element);\n",
              "          const docLink = document.createElement('div');\n",
              "          docLink.innerHTML = docLinkHtml;\n",
              "          element.appendChild(docLink);\n",
              "        }\n",
              "      </script>\n",
              "    </div>\n",
              "  </div>\n",
              "  "
            ],
            "text/plain": [
              "   ISOYear  Month  ...  hospitalizations  critical cases\n",
              "0     2019      1  ...               0.0             0.0\n",
              "1     2019      1  ...               0.0             0.0\n",
              "2     2019      1  ...               0.0             0.0\n",
              "3     2019      1  ...               0.0             0.0\n",
              "4     2019      1  ...               0.0             0.0\n",
              "\n",
              "[5 rows x 15 columns]"
            ]
          },
          "metadata": {},
          "execution_count": 2
        }
      ]
    },
    {
      "cell_type": "code",
      "source": [
        "c1 = pd.DataFrame(ridership_data.drop(['Month','ISOWeek','Start of Week','Population Growth Rate'],axis=1).corr()['Total Boardings'])\n",
        "c2 = pd.DataFrame(ridership_data[ridership_data['hospitalizations']>0].drop(['Month','ISOWeek','Start of Week','Population Growth Rate'],axis=1).corr()['Total Boardings'])\n",
        "c3 = pd.DataFrame(ridership_data[ridership_data['hospitalizations']==0].drop(['Month','ISOWeek','Start of Week','Population Growth Rate'],axis=1).corr()['Total Boardings'])"
      ],
      "metadata": {
        "id": "92DRx8tQ3szq"
      },
      "execution_count": null,
      "outputs": []
    },
    {
      "cell_type": "code",
      "source": [
        "correlations = pd.concat([c1, c2, c3], axis=1)\n",
        "correlations.columns = ['Overall', 'Post-Covid', 'Pre-Covid']"
      ],
      "metadata": {
        "id": "Yan2HVVPng49"
      },
      "execution_count": null,
      "outputs": []
    },
    {
      "cell_type": "code",
      "source": [
        "plt.figure(figsize=(12,8))\n",
        "correlations.drop('Total Boardings').sort_values(by='Overall').plot(kind='bar',figsize=(12,8))"
      ],
      "metadata": {
        "colab": {
          "base_uri": "https://localhost:8080/",
          "height": 634
        },
        "id": "b4xNZH4O6I-E",
        "outputId": "e55ef959-bb5f-4d5c-89f2-7237d23c1f1e"
      },
      "execution_count": null,
      "outputs": [
        {
          "output_type": "execute_result",
          "data": {
            "text/plain": [
              "<matplotlib.axes._subplots.AxesSubplot at 0x7f46774d1e90>"
            ]
          },
          "metadata": {},
          "execution_count": 43
        },
        {
          "output_type": "display_data",
          "data": {
            "text/plain": [
              "<Figure size 864x576 with 0 Axes>"
            ]
          },
          "metadata": {}
        },
        {
          "output_type": "display_data",
          "data": {
            "image/png": "[encoded data removed]",
            "text/plain": [
              "<Figure size 864x576 with 1 Axes>"
            ]
          },
          "metadata": {
            "needs_background": "light"
          }
        }
      ]
    },
    {
      "cell_type": "code",
      "source": [
        "plt.figure(figsize=(12,8))\n",
        "sns.heatmap(data=ridership_data.corr(),cmap='viridis',annot=True)"
      ],
      "metadata": {
        "colab": {
          "base_uri": "https://localhost:8080/",
          "height": 621
        },
        "id": "NHUbypVEOhSR",
        "outputId": "b7738732-3766-4230-f1c4-23a00d562390"
      },
      "execution_count": null,
      "outputs": [
        {
          "output_type": "execute_result",
          "data": {
            "text/plain": [
              "<matplotlib.axes._subplots.AxesSubplot at 0x7f9b92e96a90>"
            ]
          },
          "metadata": {},
          "execution_count": 5
        },
        {
          "output_type": "display_data",
          "data": {
            "image/png": "[encoded data removed]",
            "text/plain": [
              "<Figure size 864x576 with 2 Axes>"
            ]
          },
          "metadata": {
            "needs_background": "light"
          }
        }
      ]
    },
    {
      "cell_type": "code",
      "source": [
        "ridership_data = ridership_data.drop(['critical cases','BC Vaccination Rate'], axis=1)"
      ],
      "metadata": {
        "id": "VKxDEhw7PjTs"
      },
      "execution_count": null,
      "outputs": []
    },
    {
      "cell_type": "code",
      "source": [
        "ridership_data.columns"
      ],
      "metadata": {
        "colab": {
          "base_uri": "https://localhost:8080/"
        },
        "id": "ZEHxuz-VVRQI",
        "outputId": "42d0736a-4a38-429b-8cdf-fdcb81de8a84"
      },
      "execution_count": null,
      "outputs": [
        {
          "output_type": "execute_result",
          "data": {
            "text/plain": [
              "Index(['Total Boardings', 'Revenue Hours', 'Restaurant Bookings',\n",
              "       'Gas Price (C/L)', 'University School Season', 'Employment', 'WFH',\n",
              "       'hospitalizations'],\n",
              "      dtype='object')"
            ]
          },
          "metadata": {},
          "execution_count": 5
        }
      ]
    },
    {
      "cell_type": "code",
      "source": [
        "plt.figure(figsize=(12,6))\n",
        "sns.distplot(x=ridership_data['Total Boardings'],bins=20)\n",
        "plt.title('Distribution of Weekly Boardings')\n",
        "plt.xlabel('Weekly Boardings')"
      ],
      "metadata": {
        "colab": {
          "base_uri": "https://localhost:8080/",
          "height": 476
        },
        "id": "7rjLuvEzM-j7",
        "outputId": "73a4bb5a-d046-4e5e-f717-73402caff35b"
      },
      "execution_count": null,
      "outputs": [
        {
          "output_type": "stream",
          "name": "stderr",
          "text": [
            "/usr/local/lib/python3.7/dist-packages/seaborn/distributions.py:2619: FutureWarning: `distplot` is a deprecated function and will be removed in a future version. Please adapt your code to use either `displot` (a figure-level function with similar flexibility) or `histplot` (an axes-level function for histograms).\n",
            "  warnings.warn(msg, FutureWarning)\n"
          ]
        },
        {
          "output_type": "execute_result",
          "data": {
            "text/plain": [
              "Text(0.5, 0, 'Weekly Boardings')"
            ]
          },
          "metadata": {},
          "execution_count": 11
        },
        {
          "output_type": "display_data",
          "data": {
            "image/png": "[encoded data removed]",
            "text/plain": [
              "<Figure size 864x432 with 1 Axes>"
            ]
          },
          "metadata": {
            "needs_background": "light"
          }
        }
      ]
    },
    {
      "cell_type": "code",
      "source": [
        "sns.boxplot(data=ridership_data,x='University School Season',y='Total Boardings')"
      ],
      "metadata": {
        "colab": {
          "base_uri": "https://localhost:8080/",
          "height": 297
        },
        "id": "3lU3uC8VtCmb",
        "outputId": "6d73905b-0dad-423f-f4a1-20905a57b3b4"
      },
      "execution_count": null,
      "outputs": [
        {
          "output_type": "execute_result",
          "data": {
            "text/plain": [
              "<matplotlib.axes._subplots.AxesSubplot at 0x7f9b8c5463d0>"
            ]
          },
          "metadata": {},
          "execution_count": 9
        },
        {
          "output_type": "display_data",
          "data": {
            "image/png": "[encoded data removed]",
            "text/plain": [
              "<Figure size 432x288 with 1 Axes>"
            ]
          },
          "metadata": {
            "needs_background": "light"
          }
        }
      ]
    },
    {
      "cell_type": "code",
      "source": [
        "X = ridership_data.drop('Total Boardings', axis=1).values\n",
        "y = ridership_data['Total Boardings'].values"
      ],
      "metadata": {
        "id": "_RAo08Ky1Gv_"
      },
      "execution_count": null,
      "outputs": []
    },
    {
      "cell_type": "code",
      "source": [
        "from sklearn.preprocessing import MinMaxScaler"
      ],
      "metadata": {
        "id": "LZBGTnk12gEv"
      },
      "execution_count": null,
      "outputs": []
    },
    {
      "cell_type": "code",
      "source": [
        "from sklearn.model_selection import train_test_split"
      ],
      "metadata": {
        "id": "8oq776N52lRW"
      },
      "execution_count": null,
      "outputs": []
    },
    {
      "cell_type": "code",
      "source": [
        "X_train, X_test, y_train, y_test = train_test_split(X,y,test_size=.15,random_state=42)"
      ],
      "metadata": {
        "id": "pjflLjt92zSu"
      },
      "execution_count": null,
      "outputs": []
    },
    {
      "cell_type": "code",
      "source": [
        "scaler = MinMaxScaler()\n",
        "X_train = scaler.fit_transform(X_train)\n",
        "X_test = scaler.transform(X_test)"
      ],
      "metadata": {
        "id": "k0T0Lwy9248G"
      },
      "execution_count": null,
      "outputs": []
    },
    {
      "cell_type": "code",
      "source": [
        "from tensorflow.keras.models import Sequential\n",
        "from tensorflow.keras.layers import Dense, Activation, Dropout\n",
        "from tensorflow.keras.optimizers import Adam"
      ],
      "metadata": {
        "id": "zxSBN-Jh3HdW"
      },
      "execution_count": null,
      "outputs": []
    },
    {
      "cell_type": "code",
      "source": [
        "X_train.shape"
      ],
      "metadata": {
        "colab": {
          "base_uri": "https://localhost:8080/"
        },
        "id": "6LpL7a1mKEag",
        "outputId": "a7287c64-4d44-4a90-e3b2-ff55aafdeef2"
      },
      "execution_count": null,
      "outputs": [
        {
          "output_type": "execute_result",
          "data": {
            "text/plain": [
              "(133, 8)"
            ]
          },
          "metadata": {},
          "execution_count": 36
        }
      ]
    },
    {
      "cell_type": "code",
      "source": [
        "from tensorflow.keras.callbacks import EarlyStopping"
      ],
      "metadata": {
        "id": "fL7fERDc8Znc"
      },
      "execution_count": null,
      "outputs": []
    },
    {
      "cell_type": "code",
      "source": [
        "early_stop = EarlyStopping(monitor='val_loss',mode='min',verbose=1,patience=5)"
      ],
      "metadata": {
        "id": "rS6VTVoL8dW-"
      },
      "execution_count": null,
      "outputs": []
    },
    {
      "cell_type": "code",
      "source": [
        "model = Sequential()\n",
        "\n",
        "model.add(Dense(8,activation='relu'))\n",
        "model.add(Dense(5,activation='relu'))\n",
        "model.add(Dense(3,activation='relu'))\n",
        "model.add(Dense(1))\n",
        "\n",
        "model.compile(optimizer='Adam', loss='mse')"
      ],
      "metadata": {
        "id": "AtWmcjHzyaT4"
      },
      "execution_count": null,
      "outputs": []
    },
    {
      "cell_type": "code",
      "source": [
        "model.fit(x=X_train,y=y_train,\n",
        "          validation_data=(X_test,y_test),\n",
        "          batch_size=1,epochs=300,\n",
        "          callbacks=[early_stop])"
      ],
      "metadata": {
        "colab": {
          "base_uri": "https://localhost:8080/"
        },
        "id": "SdIIdi_S3hyG",
        "outputId": "2e6a76c5-503e-4ce6-bf51-971966a48435"
      },
      "execution_count": null,
      "outputs": [
        {
          "output_type": "stream",
          "name": "stdout",
          "text": [
            "Epoch 1/300\n",
            "133/133 [==============================] - 1s 3ms/step - loss: 211854311424.0000 - val_loss: 202074144768.0000\n",
            "Epoch 2/300\n",
            "133/133 [==============================] - 0s 2ms/step - loss: 211853967360.0000 - val_loss: 202073653248.0000\n",
            "Epoch 3/300\n",
            "133/133 [==============================] - 0s 2ms/step - loss: 211852820480.0000 - val_loss: 202071392256.0000\n",
            "Epoch 4/300\n",
            "133/133 [==============================] - 0s 2ms/step - loss: 211846529024.0000 - val_loss: 202058956800.0000\n",
            "Epoch 5/300\n",
            "133/133 [==============================] - 0s 2ms/step - loss: 211821166592.0000 - val_loss: 202016620544.0000\n",
            "Epoch 6/300\n",
            "133/133 [==============================] - 0s 2ms/step - loss: 211751174144.0000 - val_loss: 201915498496.0000\n",
            "Epoch 7/300\n",
            "133/133 [==============================] - 0s 2ms/step - loss: 211607453696.0000 - val_loss: 201727803392.0000\n",
            "Epoch 8/300\n",
            "133/133 [==============================] - 0s 2ms/step - loss: 211367149568.0000 - val_loss: 201431072768.0000\n",
            "Epoch 9/300\n",
            "133/133 [==============================] - 0s 2ms/step - loss: 211004735488.0000 - val_loss: 201000747008.0000\n",
            "Epoch 10/300\n",
            "133/133 [==============================] - 0s 2ms/step - loss: 210491801600.0000 - val_loss: 200413544448.0000\n",
            "Epoch 11/300\n",
            "133/133 [==============================] - 0s 2ms/step - loss: 209803116544.0000 - val_loss: 199638597632.0000\n",
            "Epoch 12/300\n",
            "133/133 [==============================] - 0s 2ms/step - loss: 208923131904.0000 - val_loss: 198641303552.0000\n",
            "Epoch 13/300\n",
            "133/133 [==============================] - 0s 2ms/step - loss: 207822749696.0000 - val_loss: 197446156288.0000\n",
            "Epoch 14/300\n",
            "133/133 [==============================] - 0s 2ms/step - loss: 206483275776.0000 - val_loss: 195978264576.0000\n",
            "Epoch 15/300\n",
            "133/133 [==============================] - 0s 2ms/step - loss: 204880068608.0000 - val_loss: 194261614592.0000\n",
            "Epoch 16/300\n",
            "133/133 [==============================] - 0s 2ms/step - loss: 203001233408.0000 - val_loss: 192260079616.0000\n",
            "Epoch 17/300\n",
            "133/133 [==============================] - 0s 2ms/step - loss: 200833056768.0000 - val_loss: 189938401280.0000\n",
            "Epoch 18/300\n",
            "133/133 [==============================] - 0s 2ms/step - loss: 198361432064.0000 - val_loss: 187350859776.0000\n",
            "Epoch 19/300\n",
            "133/133 [==============================] - 0s 2ms/step - loss: 195589914624.0000 - val_loss: 184443748352.0000\n",
            "Epoch 20/300\n",
            "133/133 [==============================] - 0s 2ms/step - loss: 192483115008.0000 - val_loss: 181225766912.0000\n",
            "Epoch 21/300\n",
            "133/133 [==============================] - 0s 2ms/step - loss: 189046095872.0000 - val_loss: 177652727808.0000\n",
            "Epoch 22/300\n",
            "133/133 [==============================] - 0s 2ms/step - loss: 185303564288.0000 - val_loss: 173785792512.0000\n",
            "Epoch 23/300\n",
            "133/133 [==============================] - 0s 2ms/step - loss: 181228044288.0000 - val_loss: 169612181504.0000\n",
            "Epoch 24/300\n",
            "133/133 [==============================] - 0s 2ms/step - loss: 176832266240.0000 - val_loss: 165110153216.0000\n",
            "Epoch 25/300\n",
            "133/133 [==============================] - 0s 2ms/step - loss: 172138807296.0000 - val_loss: 160297598976.0000\n",
            "Epoch 26/300\n",
            "133/133 [==============================] - 0s 2ms/step - loss: 167148486656.0000 - val_loss: 155228880896.0000\n",
            "Epoch 27/300\n",
            "133/133 [==============================] - 0s 2ms/step - loss: 161887862784.0000 - val_loss: 149958737920.0000\n",
            "Epoch 28/300\n",
            "133/133 [==============================] - 0s 2ms/step - loss: 156375646208.0000 - val_loss: 144425172992.0000\n",
            "Epoch 29/300\n",
            "133/133 [==============================] - 0s 2ms/step - loss: 150636789760.0000 - val_loss: 138685939712.0000\n",
            "Epoch 30/300\n",
            "133/133 [==============================] - 0s 2ms/step - loss: 144715841536.0000 - val_loss: 132706279424.0000\n",
            "Epoch 31/300\n",
            "133/133 [==============================] - 0s 2ms/step - loss: 138634903552.0000 - val_loss: 126741635072.0000\n",
            "Epoch 32/300\n",
            "133/133 [==============================] - 0s 2ms/step - loss: 132443299840.0000 - val_loss: 120631107584.0000\n",
            "Epoch 33/300\n",
            "133/133 [==============================] - 0s 2ms/step - loss: 126144069632.0000 - val_loss: 114531082240.0000\n",
            "Epoch 34/300\n",
            "133/133 [==============================] - 0s 2ms/step - loss: 119801913344.0000 - val_loss: 108312862720.0000\n",
            "Epoch 35/300\n",
            "133/133 [==============================] - 0s 2ms/step - loss: 113454047232.0000 - val_loss: 102185172992.0000\n",
            "Epoch 36/300\n",
            "133/133 [==============================] - 0s 2ms/step - loss: 107162624000.0000 - val_loss: 95946014720.0000\n",
            "Epoch 37/300\n",
            "133/133 [==============================] - 0s 2ms/step - loss: 100921729024.0000 - val_loss: 90204184576.0000\n",
            "Epoch 38/300\n",
            "133/133 [==============================] - 0s 2ms/step - loss: 94841708544.0000 - val_loss: 84353556480.0000\n",
            "Epoch 39/300\n",
            "133/133 [==============================] - 0s 2ms/step - loss: 88908939264.0000 - val_loss: 78798741504.0000\n",
            "Epoch 40/300\n",
            "133/133 [==============================] - 0s 2ms/step - loss: 83235119104.0000 - val_loss: 73339150336.0000\n",
            "Epoch 41/300\n",
            "133/133 [==============================] - 0s 2ms/step - loss: 77773766656.0000 - val_loss: 68428464128.0000\n",
            "Epoch 42/300\n",
            "133/133 [==============================] - 0s 2ms/step - loss: 72623906816.0000 - val_loss: 63574126592.0000\n",
            "Epoch 43/300\n",
            "133/133 [==============================] - 0s 2ms/step - loss: 67767615488.0000 - val_loss: 59192131584.0000\n",
            "Epoch 44/300\n",
            "133/133 [==============================] - 0s 2ms/step - loss: 63253106688.0000 - val_loss: 55320227840.0000\n",
            "Epoch 45/300\n",
            "133/133 [==============================] - 0s 2ms/step - loss: 59105714176.0000 - val_loss: 51557232640.0000\n",
            "Epoch 46/300\n",
            "133/133 [==============================] - 0s 2ms/step - loss: 55301636096.0000 - val_loss: 48248254464.0000\n",
            "Epoch 47/300\n",
            "133/133 [==============================] - 0s 2ms/step - loss: 51842183168.0000 - val_loss: 45282783232.0000\n",
            "Epoch 48/300\n",
            "133/133 [==============================] - 0s 2ms/step - loss: 48734855168.0000 - val_loss: 42661490688.0000\n",
            "Epoch 49/300\n",
            "133/133 [==============================] - 0s 2ms/step - loss: 45997658112.0000 - val_loss: 40375648256.0000\n",
            "Epoch 50/300\n",
            "133/133 [==============================] - 0s 2ms/step - loss: 43569713152.0000 - val_loss: 38410616832.0000\n",
            "Epoch 51/300\n",
            "133/133 [==============================] - 0s 2ms/step - loss: 41418366976.0000 - val_loss: 36666843136.0000\n",
            "Epoch 52/300\n",
            "133/133 [==============================] - 0s 2ms/step - loss: 39533162496.0000 - val_loss: 35192107008.0000\n",
            "Epoch 53/300\n",
            "133/133 [==============================] - 0s 2ms/step - loss: 37913624576.0000 - val_loss: 33920555008.0000\n",
            "Epoch 54/300\n",
            "133/133 [==============================] - 0s 2ms/step - loss: 36492328960.0000 - val_loss: 32858605568.0000\n",
            "Epoch 55/300\n",
            "133/133 [==============================] - 0s 2ms/step - loss: 35261743104.0000 - val_loss: 31951241216.0000\n",
            "Epoch 56/300\n",
            "133/133 [==============================] - 0s 2ms/step - loss: 34196148224.0000 - val_loss: 31147276288.0000\n",
            "Epoch 57/300\n",
            "133/133 [==============================] - 0s 2ms/step - loss: 33252079616.0000 - val_loss: 30453557248.0000\n",
            "Epoch 58/300\n",
            "133/133 [==============================] - 0s 2ms/step - loss: 32430659584.0000 - val_loss: 29878804480.0000\n",
            "Epoch 59/300\n",
            "133/133 [==============================] - 0s 2ms/step - loss: 31711158272.0000 - val_loss: 29308692480.0000\n",
            "Epoch 60/300\n",
            "133/133 [==============================] - 0s 2ms/step - loss: 31075885056.0000 - val_loss: 28865415168.0000\n",
            "Epoch 61/300\n",
            "133/133 [==============================] - 0s 2ms/step - loss: 30494552064.0000 - val_loss: 28451473408.0000\n",
            "Epoch 62/300\n",
            "133/133 [==============================] - 0s 2ms/step - loss: 29979326464.0000 - val_loss: 28082944000.0000\n",
            "Epoch 63/300\n",
            "133/133 [==============================] - 0s 2ms/step - loss: 29504114688.0000 - val_loss: 27747108864.0000\n",
            "Epoch 64/300\n",
            "133/133 [==============================] - 0s 2ms/step - loss: 29064419328.0000 - val_loss: 27405400064.0000\n",
            "Epoch 65/300\n",
            "133/133 [==============================] - 0s 2ms/step - loss: 28674965504.0000 - val_loss: 27113531392.0000\n",
            "Epoch 66/300\n",
            "133/133 [==============================] - 0s 2ms/step - loss: 28296388608.0000 - val_loss: 26826835968.0000\n",
            "Epoch 67/300\n",
            "133/133 [==============================] - 0s 2ms/step - loss: 27936673792.0000 - val_loss: 26552883200.0000\n",
            "Epoch 68/300\n",
            "133/133 [==============================] - 0s 2ms/step - loss: 27626915840.0000 - val_loss: 26296072192.0000\n",
            "Epoch 69/300\n",
            "133/133 [==============================] - 0s 2ms/step - loss: 27310786560.0000 - val_loss: 26041378816.0000\n",
            "Epoch 70/300\n",
            "133/133 [==============================] - 0s 2ms/step - loss: 26998040576.0000 - val_loss: 25788663808.0000\n",
            "Epoch 71/300\n",
            "133/133 [==============================] - 0s 2ms/step - loss: 26702610432.0000 - val_loss: 25546225664.0000\n",
            "Epoch 72/300\n",
            "133/133 [==============================] - 0s 2ms/step - loss: 26399924224.0000 - val_loss: 25309050880.0000\n",
            "Epoch 73/300\n",
            "133/133 [==============================] - 0s 2ms/step - loss: 26139375616.0000 - val_loss: 25071097856.0000\n",
            "Epoch 74/300\n",
            "133/133 [==============================] - 0s 2ms/step - loss: 25856634880.0000 - val_loss: 24853258240.0000\n",
            "Epoch 75/300\n",
            "133/133 [==============================] - 0s 2ms/step - loss: 25608382464.0000 - val_loss: 24616984576.0000\n",
            "Epoch 76/300\n",
            "133/133 [==============================] - 0s 2ms/step - loss: 25335932928.0000 - val_loss: 24381349888.0000\n",
            "Epoch 77/300\n",
            "133/133 [==============================] - 0s 2ms/step - loss: 25111871488.0000 - val_loss: 24156250112.0000\n",
            "Epoch 78/300\n",
            "133/133 [==============================] - 0s 2ms/step - loss: 24849199104.0000 - val_loss: 23926786048.0000\n",
            "Epoch 79/300\n",
            "133/133 [==============================] - 0s 2ms/step - loss: 24599654400.0000 - val_loss: 23704643584.0000\n",
            "Epoch 80/300\n",
            "133/133 [==============================] - 0s 2ms/step - loss: 24351283200.0000 - val_loss: 23489038336.0000\n",
            "Epoch 81/300\n",
            "133/133 [==============================] - 0s 2ms/step - loss: 24124702720.0000 - val_loss: 23258826752.0000\n",
            "Epoch 82/300\n",
            "133/133 [==============================] - 0s 2ms/step - loss: 23883016192.0000 - val_loss: 23032948736.0000\n",
            "Epoch 83/300\n",
            "133/133 [==============================] - 0s 2ms/step - loss: 23649277952.0000 - val_loss: 22812153856.0000\n",
            "Epoch 84/300\n",
            "133/133 [==============================] - 0s 2ms/step - loss: 23431747584.0000 - val_loss: 22614980608.0000\n",
            "Epoch 85/300\n",
            "133/133 [==============================] - 0s 2ms/step - loss: 23187847168.0000 - val_loss: 22382338048.0000\n",
            "Epoch 86/300\n",
            "133/133 [==============================] - 0s 2ms/step - loss: 22976966656.0000 - val_loss: 22159611904.0000\n",
            "Epoch 87/300\n",
            "133/133 [==============================] - 0s 2ms/step - loss: 22746943488.0000 - val_loss: 21935904768.0000\n",
            "Epoch 88/300\n",
            "133/133 [==============================] - 0s 2ms/step - loss: 22521270272.0000 - val_loss: 21749954560.0000\n",
            "Epoch 89/300\n",
            "133/133 [==============================] - 0s 2ms/step - loss: 22297468928.0000 - val_loss: 21524805632.0000\n",
            "Epoch 90/300\n",
            "133/133 [==============================] - 0s 2ms/step - loss: 22086905856.0000 - val_loss: 21320681472.0000\n",
            "Epoch 91/300\n",
            "133/133 [==============================] - 0s 2ms/step - loss: 21871345664.0000 - val_loss: 21101436928.0000\n",
            "Epoch 92/300\n",
            "133/133 [==============================] - 0s 2ms/step - loss: 21656717312.0000 - val_loss: 20896481280.0000\n",
            "Epoch 93/300\n",
            "133/133 [==============================] - 0s 2ms/step - loss: 21460899840.0000 - val_loss: 20672604160.0000\n",
            "Epoch 94/300\n",
            "133/133 [==============================] - 0s 2ms/step - loss: 21240838144.0000 - val_loss: 20467367936.0000\n",
            "Epoch 95/300\n",
            "133/133 [==============================] - 0s 2ms/step - loss: 21028859904.0000 - val_loss: 20284966912.0000\n",
            "Epoch 96/300\n",
            "133/133 [==============================] - 0s 2ms/step - loss: 20824154112.0000 - val_loss: 20078860288.0000\n",
            "Epoch 97/300\n",
            "133/133 [==============================] - 0s 2ms/step - loss: 20621309952.0000 - val_loss: 19865561088.0000\n",
            "Epoch 98/300\n",
            "133/133 [==============================] - 0s 2ms/step - loss: 20407844864.0000 - val_loss: 19648190464.0000\n",
            "Epoch 99/300\n",
            "133/133 [==============================] - 0s 2ms/step - loss: 20209199104.0000 - val_loss: 19466864640.0000\n",
            "Epoch 100/300\n",
            "133/133 [==============================] - 0s 2ms/step - loss: 20013240320.0000 - val_loss: 19217909760.0000\n",
            "Epoch 101/300\n",
            "133/133 [==============================] - 0s 2ms/step - loss: 19811401728.0000 - val_loss: 19070889984.0000\n",
            "Epoch 102/300\n",
            "133/133 [==============================] - 0s 2ms/step - loss: 19604150272.0000 - val_loss: 18864236544.0000\n",
            "Epoch 103/300\n",
            "133/133 [==============================] - 0s 2ms/step - loss: 19399485440.0000 - val_loss: 18644666368.0000\n",
            "Epoch 104/300\n",
            "133/133 [==============================] - 0s 2ms/step - loss: 19203102720.0000 - val_loss: 18473244672.0000\n",
            "Epoch 105/300\n",
            "133/133 [==============================] - 0s 2ms/step - loss: 19014014976.0000 - val_loss: 18270257152.0000\n",
            "Epoch 106/300\n",
            "133/133 [==============================] - 0s 2ms/step - loss: 18817984512.0000 - val_loss: 18072217600.0000\n",
            "Epoch 107/300\n",
            "133/133 [==============================] - 0s 2ms/step - loss: 18619158528.0000 - val_loss: 17903845376.0000\n",
            "Epoch 108/300\n",
            "133/133 [==============================] - 0s 2ms/step - loss: 18431397888.0000 - val_loss: 17691041792.0000\n",
            "Epoch 109/300\n",
            "133/133 [==============================] - 0s 2ms/step - loss: 18246946816.0000 - val_loss: 17517389824.0000\n",
            "Epoch 110/300\n",
            "133/133 [==============================] - 0s 2ms/step - loss: 18050623488.0000 - val_loss: 17330739200.0000\n",
            "Epoch 111/300\n",
            "133/133 [==============================] - 0s 2ms/step - loss: 17868752896.0000 - val_loss: 17121516544.0000\n",
            "Epoch 112/300\n",
            "133/133 [==============================] - 0s 2ms/step - loss: 17689450496.0000 - val_loss: 16942533632.0000\n",
            "Epoch 113/300\n",
            "133/133 [==============================] - 0s 2ms/step - loss: 17501259776.0000 - val_loss: 16770826240.0000\n",
            "Epoch 114/300\n",
            "133/133 [==============================] - 0s 2ms/step - loss: 17319776256.0000 - val_loss: 16590991360.0000\n",
            "Epoch 115/300\n",
            "133/133 [==============================] - 0s 2ms/step - loss: 17145378816.0000 - val_loss: 16388795392.0000\n",
            "Epoch 116/300\n",
            "133/133 [==============================] - 0s 2ms/step - loss: 16952312832.0000 - val_loss: 16216301568.0000\n",
            "Epoch 117/300\n",
            "133/133 [==============================] - 0s 2ms/step - loss: 16774490112.0000 - val_loss: 16043388928.0000\n",
            "Epoch 118/300\n",
            "133/133 [==============================] - 0s 2ms/step - loss: 16604376064.0000 - val_loss: 15840433152.0000\n",
            "Epoch 119/300\n",
            "133/133 [==============================] - 0s 2ms/step - loss: 16414290944.0000 - val_loss: 15678833664.0000\n",
            "Epoch 120/300\n",
            "133/133 [==============================] - 0s 2ms/step - loss: 16247056384.0000 - val_loss: 15494001664.0000\n",
            "Epoch 121/300\n",
            "133/133 [==============================] - 0s 2ms/step - loss: 16068269056.0000 - val_loss: 15328583680.0000\n",
            "Epoch 122/300\n",
            "133/133 [==============================] - 0s 2ms/step - loss: 15895917568.0000 - val_loss: 15157542912.0000\n",
            "Epoch 123/300\n",
            "133/133 [==============================] - 0s 2ms/step - loss: 15729073152.0000 - val_loss: 15004146688.0000\n",
            "Epoch 124/300\n",
            "133/133 [==============================] - 0s 2ms/step - loss: 15558856704.0000 - val_loss: 14817827840.0000\n",
            "Epoch 125/300\n",
            "133/133 [==============================] - 0s 2ms/step - loss: 15382989824.0000 - val_loss: 14642273280.0000\n",
            "Epoch 126/300\n",
            "133/133 [==============================] - 0s 2ms/step - loss: 15218558976.0000 - val_loss: 14447543296.0000\n",
            "Epoch 127/300\n",
            "133/133 [==============================] - 0s 2ms/step - loss: 15056209920.0000 - val_loss: 14286367744.0000\n",
            "Epoch 128/300\n",
            "133/133 [==============================] - 0s 2ms/step - loss: 14900436992.0000 - val_loss: 14094217216.0000\n",
            "Epoch 129/300\n",
            "133/133 [==============================] - 0s 2ms/step - loss: 14724798464.0000 - val_loss: 13956951040.0000\n",
            "Epoch 130/300\n",
            "133/133 [==============================] - 0s 2ms/step - loss: 14559805440.0000 - val_loss: 13791779840.0000\n",
            "Epoch 131/300\n",
            "133/133 [==============================] - 0s 2ms/step - loss: 14404423680.0000 - val_loss: 13624684544.0000\n",
            "Epoch 132/300\n",
            "133/133 [==============================] - 0s 2ms/step - loss: 14243153920.0000 - val_loss: 13475926016.0000\n",
            "Epoch 133/300\n",
            "133/133 [==============================] - 0s 2ms/step - loss: 14083842048.0000 - val_loss: 13291537408.0000\n",
            "Epoch 134/300\n",
            "133/133 [==============================] - 0s 2ms/step - loss: 13951632384.0000 - val_loss: 13121610752.0000\n",
            "Epoch 135/300\n",
            "133/133 [==============================] - 0s 2ms/step - loss: 13780136960.0000 - val_loss: 12975873024.0000\n",
            "Epoch 136/300\n",
            "133/133 [==============================] - 0s 2ms/step - loss: 13637507072.0000 - val_loss: 12802939904.0000\n",
            "Epoch 137/300\n",
            "133/133 [==============================] - 0s 2ms/step - loss: 13474800640.0000 - val_loss: 12675382272.0000\n",
            "Epoch 138/300\n",
            "133/133 [==============================] - 0s 2ms/step - loss: 13330599936.0000 - val_loss: 12538318848.0000\n",
            "Epoch 139/300\n",
            "133/133 [==============================] - 0s 2ms/step - loss: 13184717824.0000 - val_loss: 12352932864.0000\n",
            "Epoch 140/300\n",
            "133/133 [==============================] - 0s 2ms/step - loss: 13026960384.0000 - val_loss: 12194638848.0000\n",
            "Epoch 141/300\n",
            "133/133 [==============================] - 0s 2ms/step - loss: 12890547200.0000 - val_loss: 12045800448.0000\n",
            "Epoch 142/300\n",
            "133/133 [==============================] - 0s 2ms/step - loss: 12739979264.0000 - val_loss: 11891235840.0000\n",
            "Epoch 143/300\n",
            "133/133 [==============================] - 0s 3ms/step - loss: 12595610624.0000 - val_loss: 11757596672.0000\n",
            "Epoch 144/300\n",
            "133/133 [==============================] - 0s 2ms/step - loss: 12461322240.0000 - val_loss: 11598482432.0000\n",
            "Epoch 145/300\n",
            "133/133 [==============================] - 0s 2ms/step - loss: 12312550400.0000 - val_loss: 11462447104.0000\n",
            "Epoch 146/300\n",
            "133/133 [==============================] - 0s 2ms/step - loss: 12172667904.0000 - val_loss: 11308899328.0000\n",
            "Epoch 147/300\n",
            "133/133 [==============================] - 0s 2ms/step - loss: 12035097600.0000 - val_loss: 11195776000.0000\n",
            "Epoch 148/300\n",
            "133/133 [==============================] - 0s 2ms/step - loss: 11904785408.0000 - val_loss: 11045672960.0000\n",
            "Epoch 149/300\n",
            "133/133 [==============================] - 0s 2ms/step - loss: 11778963456.0000 - val_loss: 10910371840.0000\n",
            "Epoch 150/300\n",
            "133/133 [==============================] - 0s 2ms/step - loss: 11634877440.0000 - val_loss: 10780609536.0000\n",
            "Epoch 151/300\n",
            "133/133 [==============================] - 0s 2ms/step - loss: 11517100032.0000 - val_loss: 10640927744.0000\n",
            "Epoch 152/300\n",
            "133/133 [==============================] - 0s 2ms/step - loss: 11381069824.0000 - val_loss: 10490731520.0000\n",
            "Epoch 153/300\n",
            "133/133 [==============================] - 0s 2ms/step - loss: 11244876800.0000 - val_loss: 10374505472.0000\n",
            "Epoch 154/300\n",
            "133/133 [==============================] - 0s 2ms/step - loss: 11132689408.0000 - val_loss: 10260915200.0000\n",
            "Epoch 155/300\n",
            "133/133 [==============================] - 0s 2ms/step - loss: 11001463808.0000 - val_loss: 10105161728.0000\n",
            "Epoch 156/300\n",
            "133/133 [==============================] - 0s 2ms/step - loss: 10877729792.0000 - val_loss: 9972091904.0000\n",
            "Epoch 157/300\n",
            "133/133 [==============================] - 0s 2ms/step - loss: 10765892608.0000 - val_loss: 9839049728.0000\n",
            "Epoch 158/300\n",
            "133/133 [==============================] - 0s 2ms/step - loss: 10646913024.0000 - val_loss: 9730076672.0000\n",
            "Epoch 159/300\n",
            "133/133 [==============================] - 0s 2ms/step - loss: 10519667712.0000 - val_loss: 9595064320.0000\n",
            "Epoch 160/300\n",
            "133/133 [==============================] - 0s 2ms/step - loss: 10402444288.0000 - val_loss: 9480092672.0000\n",
            "Epoch 161/300\n",
            "133/133 [==============================] - 0s 2ms/step - loss: 10283478016.0000 - val_loss: 9341553664.0000\n",
            "Epoch 162/300\n",
            "133/133 [==============================] - 0s 2ms/step - loss: 10176308224.0000 - val_loss: 9231991808.0000\n",
            "Epoch 163/300\n",
            "133/133 [==============================] - 0s 2ms/step - loss: 10067457024.0000 - val_loss: 9108521984.0000\n",
            "Epoch 164/300\n",
            "133/133 [==============================] - 0s 2ms/step - loss: 9954537472.0000 - val_loss: 8983860224.0000\n",
            "Epoch 165/300\n",
            "133/133 [==============================] - 0s 2ms/step - loss: 9853067264.0000 - val_loss: 8878574592.0000\n",
            "Epoch 166/300\n",
            "133/133 [==============================] - 0s 2ms/step - loss: 9750692864.0000 - val_loss: 8729456640.0000\n",
            "Epoch 167/300\n",
            "133/133 [==============================] - 0s 2ms/step - loss: 9650825216.0000 - val_loss: 8629473280.0000\n",
            "Epoch 168/300\n",
            "133/133 [==============================] - 0s 2ms/step - loss: 9533207552.0000 - val_loss: 8530297344.0000\n",
            "Epoch 169/300\n",
            "133/133 [==============================] - 0s 2ms/step - loss: 9439856640.0000 - val_loss: 8410282496.0000\n",
            "Epoch 170/300\n",
            "133/133 [==============================] - 0s 2ms/step - loss: 9331212288.0000 - val_loss: 8282924544.0000\n",
            "Epoch 171/300\n",
            "133/133 [==============================] - 0s 2ms/step - loss: 9234262016.0000 - val_loss: 8191265280.0000\n",
            "Epoch 172/300\n",
            "133/133 [==============================] - 0s 2ms/step - loss: 9137222656.0000 - val_loss: 8107548672.0000\n",
            "Epoch 173/300\n",
            "133/133 [==============================] - 0s 2ms/step - loss: 9041204224.0000 - val_loss: 7981670400.0000\n",
            "Epoch 174/300\n",
            "133/133 [==============================] - 0s 2ms/step - loss: 8950910976.0000 - val_loss: 7890947584.0000\n",
            "Epoch 175/300\n",
            "133/133 [==============================] - 0s 2ms/step - loss: 8867504128.0000 - val_loss: 7802578944.0000\n",
            "Epoch 176/300\n",
            "133/133 [==============================] - 0s 2ms/step - loss: 8766560256.0000 - val_loss: 7693575680.0000\n",
            "Epoch 177/300\n",
            "133/133 [==============================] - 0s 2ms/step - loss: 8684266496.0000 - val_loss: 7600166400.0000\n",
            "Epoch 178/300\n",
            "133/133 [==============================] - 0s 2ms/step - loss: 8599491584.0000 - val_loss: 7502919680.0000\n",
            "Epoch 179/300\n",
            "133/133 [==============================] - 0s 2ms/step - loss: 8514011136.0000 - val_loss: 7409366528.0000\n",
            "Epoch 180/300\n",
            "133/133 [==============================] - 0s 2ms/step - loss: 8426449408.0000 - val_loss: 7327543296.0000\n",
            "Epoch 181/300\n",
            "133/133 [==============================] - 0s 2ms/step - loss: 8350006784.0000 - val_loss: 7241126400.0000\n",
            "Epoch 182/300\n",
            "133/133 [==============================] - 0s 2ms/step - loss: 8263196672.0000 - val_loss: 7157716480.0000\n",
            "Epoch 183/300\n",
            "133/133 [==============================] - 0s 2ms/step - loss: 8189110272.0000 - val_loss: 7049345024.0000\n",
            "Epoch 184/300\n",
            "133/133 [==============================] - 0s 2ms/step - loss: 8114075136.0000 - val_loss: 6980013568.0000\n",
            "Epoch 185/300\n",
            "133/133 [==============================] - 0s 2ms/step - loss: 8040420864.0000 - val_loss: 6865204736.0000\n",
            "Epoch 186/300\n",
            "133/133 [==============================] - 0s 2ms/step - loss: 7977239040.0000 - val_loss: 6795238912.0000\n",
            "Epoch 187/300\n",
            "133/133 [==============================] - 0s 2ms/step - loss: 7900328960.0000 - val_loss: 6699295232.0000\n",
            "Epoch 188/300\n",
            "133/133 [==============================] - 0s 2ms/step - loss: 7830109184.0000 - val_loss: 6620872192.0000\n",
            "Epoch 189/300\n",
            "133/133 [==============================] - 0s 2ms/step - loss: 7767832064.0000 - val_loss: 6563585536.0000\n",
            "Epoch 190/300\n",
            "133/133 [==============================] - 0s 2ms/step - loss: 7695925760.0000 - val_loss: 6494852608.0000\n",
            "Epoch 191/300\n",
            "133/133 [==============================] - 0s 2ms/step - loss: 7628084736.0000 - val_loss: 6433660416.0000\n",
            "Epoch 192/300\n",
            "133/133 [==============================] - 0s 2ms/step - loss: 7564119040.0000 - val_loss: 6355914240.0000\n",
            "Epoch 193/300\n",
            "133/133 [==============================] - 0s 2ms/step - loss: 7506914304.0000 - val_loss: 6293712384.0000\n",
            "Epoch 194/300\n",
            "133/133 [==============================] - 0s 2ms/step - loss: 7441602560.0000 - val_loss: 6194339328.0000\n",
            "Epoch 195/300\n",
            "133/133 [==============================] - 0s 2ms/step - loss: 7382110720.0000 - val_loss: 6146420224.0000\n",
            "Epoch 196/300\n",
            "133/133 [==============================] - 0s 2ms/step - loss: 7325201408.0000 - val_loss: 6082400256.0000\n",
            "Epoch 197/300\n",
            "133/133 [==============================] - 0s 2ms/step - loss: 7273003008.0000 - val_loss: 6028710400.0000\n",
            "Epoch 198/300\n",
            "133/133 [==============================] - 0s 2ms/step - loss: 7218299904.0000 - val_loss: 5944292864.0000\n",
            "Epoch 199/300\n",
            "133/133 [==============================] - 0s 2ms/step - loss: 7163950592.0000 - val_loss: 5900212224.0000\n",
            "Epoch 200/300\n",
            "133/133 [==============================] - 0s 2ms/step - loss: 7109611520.0000 - val_loss: 5839252992.0000\n",
            "Epoch 201/300\n",
            "133/133 [==============================] - 0s 2ms/step - loss: 7057424384.0000 - val_loss: 5771603456.0000\n",
            "Epoch 202/300\n",
            "133/133 [==============================] - 0s 2ms/step - loss: 7012791296.0000 - val_loss: 5712305664.0000\n",
            "Epoch 203/300\n",
            "133/133 [==============================] - 0s 2ms/step - loss: 6967250944.0000 - val_loss: 5657321984.0000\n",
            "Epoch 204/300\n",
            "133/133 [==============================] - 0s 2ms/step - loss: 6915631616.0000 - val_loss: 5604136448.0000\n",
            "Epoch 205/300\n",
            "133/133 [==============================] - 0s 2ms/step - loss: 6876733440.0000 - val_loss: 5548431360.0000\n",
            "Epoch 206/300\n",
            "133/133 [==============================] - 0s 2ms/step - loss: 6829543424.0000 - val_loss: 5504842240.0000\n",
            "Epoch 207/300\n",
            "133/133 [==============================] - 0s 2ms/step - loss: 6789157376.0000 - val_loss: 5440470528.0000\n",
            "Epoch 208/300\n",
            "133/133 [==============================] - 0s 2ms/step - loss: 6747094016.0000 - val_loss: 5400214528.0000\n",
            "Epoch 209/300\n",
            "133/133 [==============================] - 0s 2ms/step - loss: 6713509888.0000 - val_loss: 5367808000.0000\n",
            "Epoch 210/300\n",
            "133/133 [==============================] - 0s 2ms/step - loss: 6673179648.0000 - val_loss: 5315361792.0000\n",
            "Epoch 211/300\n",
            "133/133 [==============================] - 0s 2ms/step - loss: 6641441792.0000 - val_loss: 5275044352.0000\n",
            "Epoch 212/300\n",
            "133/133 [==============================] - 0s 2ms/step - loss: 6596793344.0000 - val_loss: 5216020992.0000\n",
            "Epoch 213/300\n",
            "133/133 [==============================] - 0s 2ms/step - loss: 6565617152.0000 - val_loss: 5155328512.0000\n",
            "Epoch 214/300\n",
            "133/133 [==============================] - 0s 2ms/step - loss: 6531430912.0000 - val_loss: 5127565824.0000\n",
            "Epoch 215/300\n",
            "133/133 [==============================] - 0s 2ms/step - loss: 6494660608.0000 - val_loss: 5083456000.0000\n",
            "Epoch 216/300\n",
            "133/133 [==============================] - 0s 2ms/step - loss: 6472017920.0000 - val_loss: 5033751040.0000\n",
            "Epoch 217/300\n",
            "133/133 [==============================] - 0s 2ms/step - loss: 6439334912.0000 - val_loss: 5005828608.0000\n",
            "Epoch 218/300\n",
            "133/133 [==============================] - 0s 2ms/step - loss: 6403766784.0000 - val_loss: 4956320768.0000\n",
            "Epoch 219/300\n",
            "133/133 [==============================] - 0s 2ms/step - loss: 6382870528.0000 - val_loss: 4927161856.0000\n",
            "Epoch 220/300\n",
            "133/133 [==============================] - 0s 2ms/step - loss: 6354409984.0000 - val_loss: 4895832576.0000\n",
            "Epoch 221/300\n",
            "133/133 [==============================] - 0s 2ms/step - loss: 6324951552.0000 - val_loss: 4888408576.0000\n",
            "Epoch 222/300\n",
            "133/133 [==============================] - 0s 2ms/step - loss: 6294782976.0000 - val_loss: 4834014720.0000\n",
            "Epoch 223/300\n",
            "133/133 [==============================] - 0s 2ms/step - loss: 6269946880.0000 - val_loss: 4803279360.0000\n",
            "Epoch 224/300\n",
            "133/133 [==============================] - 0s 2ms/step - loss: 6251684864.0000 - val_loss: 4781318144.0000\n",
            "Epoch 225/300\n",
            "133/133 [==============================] - 0s 2ms/step - loss: 6233796096.0000 - val_loss: 4775531520.0000\n",
            "Epoch 226/300\n",
            "133/133 [==============================] - 0s 2ms/step - loss: 6203766784.0000 - val_loss: 4715384320.0000\n",
            "Epoch 227/300\n",
            "133/133 [==============================] - 0s 2ms/step - loss: 6187228672.0000 - val_loss: 4670050304.0000\n",
            "Epoch 228/300\n",
            "133/133 [==============================] - 0s 2ms/step - loss: 6167803904.0000 - val_loss: 4670998016.0000\n",
            "Epoch 229/300\n",
            "133/133 [==============================] - 0s 2ms/step - loss: 6138430464.0000 - val_loss: 4645670400.0000\n",
            "Epoch 230/300\n",
            "133/133 [==============================] - 0s 2ms/step - loss: 6120635904.0000 - val_loss: 4613875200.0000\n",
            "Epoch 231/300\n",
            "133/133 [==============================] - 0s 2ms/step - loss: 6108460032.0000 - val_loss: 4572397568.0000\n",
            "Epoch 232/300\n",
            "133/133 [==============================] - 0s 2ms/step - loss: 6092973056.0000 - val_loss: 4573550080.0000\n",
            "Epoch 233/300\n",
            "133/133 [==============================] - 0s 2ms/step - loss: 6068122112.0000 - val_loss: 4533799424.0000\n",
            "Epoch 234/300\n",
            "133/133 [==============================] - 0s 2ms/step - loss: 6044369408.0000 - val_loss: 4520166912.0000\n",
            "Epoch 235/300\n",
            "133/133 [==============================] - 0s 2ms/step - loss: 6038441984.0000 - val_loss: 4495346176.0000\n",
            "Epoch 236/300\n",
            "133/133 [==============================] - 0s 2ms/step - loss: 6014147072.0000 - val_loss: 4462791168.0000\n",
            "Epoch 237/300\n",
            "133/133 [==============================] - 0s 2ms/step - loss: 6000954368.0000 - val_loss: 4457941504.0000\n",
            "Epoch 238/300\n",
            "133/133 [==============================] - 0s 2ms/step - loss: 5995515904.0000 - val_loss: 4427456000.0000\n",
            "Epoch 239/300\n",
            "133/133 [==============================] - 0s 2ms/step - loss: 5977440256.0000 - val_loss: 4405907456.0000\n",
            "Epoch 240/300\n",
            "133/133 [==============================] - 0s 2ms/step - loss: 5961061888.0000 - val_loss: 4383019008.0000\n",
            "Epoch 241/300\n",
            "133/133 [==============================] - 0s 2ms/step - loss: 5948267008.0000 - val_loss: 4385394176.0000\n",
            "Epoch 242/300\n",
            "133/133 [==============================] - 0s 2ms/step - loss: 5933450240.0000 - val_loss: 4358065152.0000\n",
            "Epoch 243/300\n",
            "133/133 [==============================] - 0s 2ms/step - loss: 5921566208.0000 - val_loss: 4344257024.0000\n",
            "Epoch 244/300\n",
            "133/133 [==============================] - 0s 2ms/step - loss: 5911460864.0000 - val_loss: 4322165760.0000\n",
            "Epoch 245/300\n",
            "133/133 [==============================] - 0s 2ms/step - loss: 5898460672.0000 - val_loss: 4315853824.0000\n",
            "Epoch 246/300\n",
            "133/133 [==============================] - 0s 2ms/step - loss: 5882776064.0000 - val_loss: 4297349632.0000\n",
            "Epoch 247/300\n",
            "133/133 [==============================] - 0s 2ms/step - loss: 5873253888.0000 - val_loss: 4292568064.0000\n",
            "Epoch 248/300\n",
            "133/133 [==============================] - 0s 2ms/step - loss: 5878304256.0000 - val_loss: 4257891584.0000\n",
            "Epoch 249/300\n",
            "133/133 [==============================] - 0s 2ms/step - loss: 5858892288.0000 - val_loss: 4272657664.0000\n",
            "Epoch 250/300\n",
            "133/133 [==============================] - 0s 2ms/step - loss: 5850175488.0000 - val_loss: 4231271168.0000\n",
            "Epoch 251/300\n",
            "133/133 [==============================] - 0s 2ms/step - loss: 5839138816.0000 - val_loss: 4227464960.0000\n",
            "Epoch 252/300\n",
            "133/133 [==============================] - 0s 2ms/step - loss: 5825384448.0000 - val_loss: 4211587840.0000\n",
            "Epoch 253/300\n",
            "133/133 [==============================] - 0s 2ms/step - loss: 5823447552.0000 - val_loss: 4221772032.0000\n",
            "Epoch 254/300\n",
            "133/133 [==============================] - 0s 2ms/step - loss: 5805306880.0000 - val_loss: 4189897472.0000\n",
            "Epoch 255/300\n",
            "133/133 [==============================] - 0s 2ms/step - loss: 5800258048.0000 - val_loss: 4180196608.0000\n",
            "Epoch 256/300\n",
            "133/133 [==============================] - 0s 2ms/step - loss: 5802520064.0000 - val_loss: 4151218944.0000\n",
            "Epoch 257/300\n",
            "133/133 [==============================] - 0s 2ms/step - loss: 5790517248.0000 - val_loss: 4164490496.0000\n",
            "Epoch 258/300\n",
            "133/133 [==============================] - 0s 2ms/step - loss: 5783819264.0000 - val_loss: 4122473472.0000\n",
            "Epoch 259/300\n",
            "133/133 [==============================] - 0s 2ms/step - loss: 5769040384.0000 - val_loss: 4139952896.0000\n",
            "Epoch 260/300\n",
            "133/133 [==============================] - 0s 2ms/step - loss: 5759434240.0000 - val_loss: 4146784256.0000\n",
            "Epoch 261/300\n",
            "133/133 [==============================] - 0s 2ms/step - loss: 5757012480.0000 - val_loss: 4140876544.0000\n",
            "Epoch 262/300\n",
            "133/133 [==============================] - 0s 2ms/step - loss: 5759534592.0000 - val_loss: 4122110208.0000\n",
            "Epoch 263/300\n",
            "133/133 [==============================] - 0s 2ms/step - loss: 5750373376.0000 - val_loss: 4094503168.0000\n",
            "Epoch 264/300\n",
            "133/133 [==============================] - 0s 2ms/step - loss: 5736979968.0000 - val_loss: 4096321280.0000\n",
            "Epoch 265/300\n",
            "133/133 [==============================] - 0s 2ms/step - loss: 5731741696.0000 - val_loss: 4095156992.0000\n",
            "Epoch 266/300\n",
            "133/133 [==============================] - 0s 2ms/step - loss: 5726139392.0000 - val_loss: 4086365952.0000\n",
            "Epoch 267/300\n",
            "133/133 [==============================] - 0s 2ms/step - loss: 5730719744.0000 - val_loss: 4087522048.0000\n",
            "Epoch 268/300\n",
            "133/133 [==============================] - 0s 2ms/step - loss: 5716296704.0000 - val_loss: 4077089536.0000\n",
            "Epoch 269/300\n",
            "133/133 [==============================] - 0s 2ms/step - loss: 5714794496.0000 - val_loss: 4072780800.0000\n",
            "Epoch 270/300\n",
            "133/133 [==============================] - 0s 2ms/step - loss: 5706539008.0000 - val_loss: 4064829696.0000\n",
            "Epoch 271/300\n",
            "133/133 [==============================] - 0s 2ms/step - loss: 5698489856.0000 - val_loss: 4056093952.0000\n",
            "Epoch 272/300\n",
            "133/133 [==============================] - 0s 2ms/step - loss: 5692319744.0000 - val_loss: 4049219840.0000\n",
            "Epoch 273/300\n",
            "133/133 [==============================] - 0s 2ms/step - loss: 5690413568.0000 - val_loss: 4063366912.0000\n",
            "Epoch 274/300\n",
            "133/133 [==============================] - 0s 2ms/step - loss: 5688225792.0000 - val_loss: 4057697024.0000\n",
            "Epoch 275/300\n",
            "133/133 [==============================] - 0s 2ms/step - loss: 5698125824.0000 - val_loss: 4035331840.0000\n",
            "Epoch 276/300\n",
            "133/133 [==============================] - 0s 2ms/step - loss: 5677349888.0000 - val_loss: 4038060800.0000\n",
            "Epoch 277/300\n",
            "133/133 [==============================] - 0s 2ms/step - loss: 5672317440.0000 - val_loss: 4027018240.0000\n",
            "Epoch 278/300\n",
            "133/133 [==============================] - 0s 2ms/step - loss: 5678254592.0000 - val_loss: 4036946176.0000\n",
            "Epoch 279/300\n",
            "133/133 [==============================] - 0s 2ms/step - loss: 5666787328.0000 - val_loss: 4012383232.0000\n",
            "Epoch 280/300\n",
            "133/133 [==============================] - 0s 2ms/step - loss: 5661957632.0000 - val_loss: 4014744576.0000\n",
            "Epoch 281/300\n",
            "133/133 [==============================] - 0s 2ms/step - loss: 5660209152.0000 - val_loss: 3987778816.0000\n",
            "Epoch 282/300\n",
            "133/133 [==============================] - 0s 2ms/step - loss: 5660295680.0000 - val_loss: 3988423424.0000\n",
            "Epoch 283/300\n",
            "133/133 [==============================] - 0s 2ms/step - loss: 5648779776.0000 - val_loss: 4000381952.0000\n",
            "Epoch 284/300\n",
            "133/133 [==============================] - 0s 2ms/step - loss: 5646678528.0000 - val_loss: 3993798400.0000\n",
            "Epoch 285/300\n",
            "133/133 [==============================] - 1s 6ms/step - loss: 5639492096.0000 - val_loss: 3984228096.0000\n",
            "Epoch 286/300\n",
            "133/133 [==============================] - 0s 2ms/step - loss: 5638342144.0000 - val_loss: 3974036736.0000\n",
            "Epoch 287/300\n",
            "133/133 [==============================] - 0s 2ms/step - loss: 5642500096.0000 - val_loss: 3957939200.0000\n",
            "Epoch 288/300\n",
            "133/133 [==============================] - 0s 2ms/step - loss: 5633741312.0000 - val_loss: 3988522240.0000\n",
            "Epoch 289/300\n",
            "133/133 [==============================] - 0s 2ms/step - loss: 5633601024.0000 - val_loss: 3988996096.0000\n",
            "Epoch 290/300\n",
            "133/133 [==============================] - 0s 2ms/step - loss: 5626581504.0000 - val_loss: 3964018944.0000\n",
            "Epoch 291/300\n",
            "133/133 [==============================] - 0s 2ms/step - loss: 5630461440.0000 - val_loss: 3952730368.0000\n",
            "Epoch 292/300\n",
            "133/133 [==============================] - 0s 2ms/step - loss: 5628326400.0000 - val_loss: 3968545024.0000\n",
            "Epoch 293/300\n",
            "133/133 [==============================] - 0s 2ms/step - loss: 5618735616.0000 - val_loss: 3959380992.0000\n",
            "Epoch 294/300\n",
            "133/133 [==============================] - 0s 2ms/step - loss: 5620393984.0000 - val_loss: 3968299264.0000\n",
            "Epoch 295/300\n",
            "133/133 [==============================] - 0s 2ms/step - loss: 5622972928.0000 - val_loss: 3937233920.0000\n",
            "Epoch 296/300\n",
            "133/133 [==============================] - 0s 2ms/step - loss: 5622169600.0000 - val_loss: 3958014720.0000\n",
            "Epoch 297/300\n",
            "133/133 [==============================] - 0s 2ms/step - loss: 5620708352.0000 - val_loss: 3963853824.0000\n",
            "Epoch 298/300\n",
            "133/133 [==============================] - 0s 2ms/step - loss: 5604162048.0000 - val_loss: 3958374400.0000\n",
            "Epoch 299/300\n",
            "133/133 [==============================] - 0s 2ms/step - loss: 5608453120.0000 - val_loss: 3966516480.0000\n",
            "Epoch 300/300\n",
            "133/133 [==============================] - 0s 2ms/step - loss: 5612690944.0000 - val_loss: 3945628672.0000\n",
            "Epoch 300: early stopping\n"
          ]
        },
        {
          "output_type": "execute_result",
          "data": {
            "text/plain": [
              "<keras.callbacks.History at 0x7f6ddebd3050>"
            ]
          },
          "metadata": {},
          "execution_count": 41
        }
      ]
    },
    {
      "cell_type": "code",
      "source": [
        "losses = pd.DataFrame(model.history.history)"
      ],
      "metadata": {
        "id": "bMHs9AEd30Ou"
      },
      "execution_count": null,
      "outputs": []
    },
    {
      "cell_type": "code",
      "source": [
        "losses.plot()"
      ],
      "metadata": {
        "colab": {
          "base_uri": "https://localhost:8080/",
          "height": 293
        },
        "id": "O30X8T3V4AH_",
        "outputId": "529153e3-5ba0-44d4-c9c9-92fefc160712"
      },
      "execution_count": null,
      "outputs": [
        {
          "output_type": "execute_result",
          "data": {
            "text/plain": [
              "<matplotlib.axes._subplots.AxesSubplot at 0x7f6ddea57ed0>"
            ]
          },
          "metadata": {},
          "execution_count": 43
        },
        {
          "output_type": "display_data",
          "data": {
            "image/png": "[encoded data removed]",
            "text/plain": [
              "<Figure size 432x288 with 1 Axes>"
            ]
          },
          "metadata": {
            "needs_background": "light"
          }
        }
      ]
    },
    {
      "cell_type": "code",
      "source": [
        "from sklearn.metrics import mean_squared_error,mean_absolute_error,explained_variance_score"
      ],
      "metadata": {
        "id": "38l0AktK4A8V"
      },
      "execution_count": null,
      "outputs": []
    },
    {
      "cell_type": "code",
      "source": [
        "predictions = model.predict(X_test)"
      ],
      "metadata": {
        "id": "3S2oeIyd4WHd"
      },
      "execution_count": null,
      "outputs": []
    },
    {
      "cell_type": "code",
      "source": [
        "mean_absolute_error(y_test, predictions) / ridership_data['Total Boardings'].mean()"
      ],
      "metadata": {
        "colab": {
          "base_uri": "https://localhost:8080/"
        },
        "id": "49qjmeLE4ddt",
        "outputId": "8e655a7a-aa58-4999-a399-bb880b3d1f33"
      },
      "execution_count": null,
      "outputs": [
        {
          "output_type": "execute_result",
          "data": {
            "text/plain": [
              "0.12723093841787234"
            ]
          },
          "metadata": {},
          "execution_count": 46
        }
      ]
    },
    {
      "cell_type": "code",
      "source": [
        "explained_variance_score(y_test,predictions)"
      ],
      "metadata": {
        "colab": {
          "base_uri": "https://localhost:8080/"
        },
        "id": "kuw7SEhJ4gD9",
        "outputId": "f026c0c1-53e3-4331-e483-83db411d63d6"
      },
      "execution_count": null,
      "outputs": [
        {
          "output_type": "execute_result",
          "data": {
            "text/plain": [
              "0.8766807904437046"
            ]
          },
          "metadata": {},
          "execution_count": 47
        }
      ]
    },
    {
      "cell_type": "code",
      "source": [
        "np.sqrt(mean_squared_error(y_test,predictions)) / ridership_data['Total Boardings'].mean()"
      ],
      "metadata": {
        "colab": {
          "base_uri": "https://localhost:8080/"
        },
        "id": "oA77fYOk4sV9",
        "outputId": "f69eb18f-3750-4bac-fddf-2a382b0d0618"
      },
      "execution_count": null,
      "outputs": [
        {
          "output_type": "execute_result",
          "data": {
            "text/plain": [
              "0.148188428106904"
            ]
          },
          "metadata": {},
          "execution_count": 48
        }
      ]
    },
    {
      "cell_type": "code",
      "source": [
        "plt.scatter(y_test,predictions)\n",
        "plt.plot(y_test,y_test,'r-')\n",
        "plt.title('Total Boardings - True vs. Predicted Values')\n",
        "plt.xlabel('True Values')\n",
        "plt.ylabel('Predicted Values')"
      ],
      "metadata": {
        "colab": {
          "base_uri": "https://localhost:8080/",
          "height": 312
        },
        "id": "79gxeCcM4yul",
        "outputId": "18180276-22f0-4c06-d442-068e3b3fce82"
      },
      "execution_count": null,
      "outputs": [
        {
          "output_type": "execute_result",
          "data": {
            "text/plain": [
              "Text(0, 0.5, 'Predicted Values')"
            ]
          },
          "metadata": {},
          "execution_count": 49
        },
        {
          "output_type": "display_data",
          "data": {
            "image/png": "[encoded data removed]",
            "text/plain": [
              "<Figure size 432x288 with 1 Axes>"
            ]
          },
          "metadata": {
            "needs_background": "light"
          }
        }
      ]
    }
  ]
}